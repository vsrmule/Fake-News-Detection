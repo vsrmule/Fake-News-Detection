{
  "nbformat": 4,
  "nbformat_minor": 0,
  "metadata": {
    "colab": {
      "provenance": [],
      "toc_visible": true
    },
    "kernelspec": {
      "name": "python3",
      "display_name": "Python 3"
    },
    "language_info": {
      "name": "python"
    }
  },
  "cells": [
    {
      "cell_type": "markdown",
      "source": [
        "\n",
        "**Data Science Task 1**\n",
        "\n",
        "**Task**: Detecting Fake News\n",
        "\n",
        "**Objective**: Differentiate between real and fake news using a Python project applying a PassiveAggressiveClassifier.\n",
        "\n",
        "**Tasks**:\n",
        "1. Read and explore the textual dataset.\n",
        "2. Build a machine learning model with TfidfVectorizer and PassiveAggressiveClassifier.\n",
        "3. Create a confusion matrix to evaluate the model's performance.\n",
        "4. Measure the model's accuracy.\n",
        "\n",
        "**Steps**:\n",
        "1.  Import necessary libraries\n",
        "2.  Read and explore the dataset\n",
        "3.   Build a model using PassiveAggressiveClassifier\n",
        "4.   Evaluate the model's accuracy\n",
        "\n",
        "\n",
        "\n",
        "\n",
        "\n",
        "\n",
        "\n"
      ],
      "metadata": {
        "id": "pVpLp5IRIQC7"
      }
    },
    {
      "cell_type": "markdown",
      "source": [
        "**Import necessary libraries**"
      ],
      "metadata": {
        "id": "aTDd1EiyKVFl"
      }
    },
    {
      "cell_type": "code",
      "source": [
        "import pandas as pd\n",
        "import numpy as np\n",
        "from sklearn.feature_extraction.text import TfidfVectorizer\n",
        "from sklearn.model_selection import train_test_split\n",
        "from sklearn.linear_model import PassiveAggressiveClassifier\n",
        "from sklearn.metrics import accuracy_score, confusion_matrix, classification_report\n",
        "import itertools\n",
        "import seaborn as sns\n",
        "import matplotlib.pyplot as plt"
      ],
      "metadata": {
        "id": "4qXhDbdAJnVp"
      },
      "execution_count": 76,
      "outputs": []
    },
    {
      "cell_type": "markdown",
      "source": [
        "**Read and explore the dataset**"
      ],
      "metadata": {
        "id": "HVg8-jipKf9o"
      }
    },
    {
      "cell_type": "code",
      "source": [
        "news_data= pd.read_csv(\"/content/news.csv\")\n",
        "news_data.head(10)\n"
      ],
      "metadata": {
        "colab": {
          "base_uri": "https://localhost:8080/",
          "height": 363
        },
        "id": "beRRvLEkKk9p",
        "outputId": "43fd5165-3038-4a4a-e8ed-2fd5d5acd595"
      },
      "execution_count": 77,
      "outputs": [
        {
          "output_type": "execute_result",
          "data": {
            "text/plain": [
              "   Unnamed: 0                                              title  \\\n",
              "0        8476                       You Can Smell Hillary’s Fear   \n",
              "1       10294  Watch The Exact Moment Paul Ryan Committed Pol...   \n",
              "2        3608        Kerry to go to Paris in gesture of sympathy   \n",
              "3       10142  Bernie supporters on Twitter erupt in anger ag...   \n",
              "4         875   The Battle of New York: Why This Primary Matters   \n",
              "5        6903                                        Tehran, USA   \n",
              "6        7341  Girl Horrified At What She Watches Boyfriend D...   \n",
              "7          95                  ‘Britain’s Schindler’ Dies at 106   \n",
              "8        4869  Fact check: Trump and Clinton at the 'commande...   \n",
              "9        2909  Iran reportedly makes new push for uranium con...   \n",
              "\n",
              "                                                text label  \n",
              "0  Daniel Greenfield, a Shillman Journalism Fello...  FAKE  \n",
              "1  Google Pinterest Digg Linkedin Reddit Stumbleu...  FAKE  \n",
              "2  U.S. Secretary of State John F. Kerry said Mon...  REAL  \n",
              "3  — Kaydee King (@KaydeeKing) November 9, 2016 T...  FAKE  \n",
              "4  It's primary day in New York and front-runners...  REAL  \n",
              "5    \\nI’m not an immigrant, but my grandparents ...  FAKE  \n",
              "6  Share This Baylee Luciani (left), Screenshot o...  FAKE  \n",
              "7  A Czech stockbroker who saved more than 650 Je...  REAL  \n",
              "8  Hillary Clinton and Donald Trump made some ina...  REAL  \n",
              "9  Iranian negotiators reportedly have made a las...  REAL  "
            ],
            "text/html": [
              "\n",
              "  <div id=\"df-04a76d67-0a48-422d-9b23-996c7612c646\" class=\"colab-df-container\">\n",
              "    <div>\n",
              "<style scoped>\n",
              "    .dataframe tbody tr th:only-of-type {\n",
              "        vertical-align: middle;\n",
              "    }\n",
              "\n",
              "    .dataframe tbody tr th {\n",
              "        vertical-align: top;\n",
              "    }\n",
              "\n",
              "    .dataframe thead th {\n",
              "        text-align: right;\n",
              "    }\n",
              "</style>\n",
              "<table border=\"1\" class=\"dataframe\">\n",
              "  <thead>\n",
              "    <tr style=\"text-align: right;\">\n",
              "      <th></th>\n",
              "      <th>Unnamed: 0</th>\n",
              "      <th>title</th>\n",
              "      <th>text</th>\n",
              "      <th>label</th>\n",
              "    </tr>\n",
              "  </thead>\n",
              "  <tbody>\n",
              "    <tr>\n",
              "      <th>0</th>\n",
              "      <td>8476</td>\n",
              "      <td>You Can Smell Hillary’s Fear</td>\n",
              "      <td>Daniel Greenfield, a Shillman Journalism Fello...</td>\n",
              "      <td>FAKE</td>\n",
              "    </tr>\n",
              "    <tr>\n",
              "      <th>1</th>\n",
              "      <td>10294</td>\n",
              "      <td>Watch The Exact Moment Paul Ryan Committed Pol...</td>\n",
              "      <td>Google Pinterest Digg Linkedin Reddit Stumbleu...</td>\n",
              "      <td>FAKE</td>\n",
              "    </tr>\n",
              "    <tr>\n",
              "      <th>2</th>\n",
              "      <td>3608</td>\n",
              "      <td>Kerry to go to Paris in gesture of sympathy</td>\n",
              "      <td>U.S. Secretary of State John F. Kerry said Mon...</td>\n",
              "      <td>REAL</td>\n",
              "    </tr>\n",
              "    <tr>\n",
              "      <th>3</th>\n",
              "      <td>10142</td>\n",
              "      <td>Bernie supporters on Twitter erupt in anger ag...</td>\n",
              "      <td>— Kaydee King (@KaydeeKing) November 9, 2016 T...</td>\n",
              "      <td>FAKE</td>\n",
              "    </tr>\n",
              "    <tr>\n",
              "      <th>4</th>\n",
              "      <td>875</td>\n",
              "      <td>The Battle of New York: Why This Primary Matters</td>\n",
              "      <td>It's primary day in New York and front-runners...</td>\n",
              "      <td>REAL</td>\n",
              "    </tr>\n",
              "    <tr>\n",
              "      <th>5</th>\n",
              "      <td>6903</td>\n",
              "      <td>Tehran, USA</td>\n",
              "      <td>\\nI’m not an immigrant, but my grandparents ...</td>\n",
              "      <td>FAKE</td>\n",
              "    </tr>\n",
              "    <tr>\n",
              "      <th>6</th>\n",
              "      <td>7341</td>\n",
              "      <td>Girl Horrified At What She Watches Boyfriend D...</td>\n",
              "      <td>Share This Baylee Luciani (left), Screenshot o...</td>\n",
              "      <td>FAKE</td>\n",
              "    </tr>\n",
              "    <tr>\n",
              "      <th>7</th>\n",
              "      <td>95</td>\n",
              "      <td>‘Britain’s Schindler’ Dies at 106</td>\n",
              "      <td>A Czech stockbroker who saved more than 650 Je...</td>\n",
              "      <td>REAL</td>\n",
              "    </tr>\n",
              "    <tr>\n",
              "      <th>8</th>\n",
              "      <td>4869</td>\n",
              "      <td>Fact check: Trump and Clinton at the 'commande...</td>\n",
              "      <td>Hillary Clinton and Donald Trump made some ina...</td>\n",
              "      <td>REAL</td>\n",
              "    </tr>\n",
              "    <tr>\n",
              "      <th>9</th>\n",
              "      <td>2909</td>\n",
              "      <td>Iran reportedly makes new push for uranium con...</td>\n",
              "      <td>Iranian negotiators reportedly have made a las...</td>\n",
              "      <td>REAL</td>\n",
              "    </tr>\n",
              "  </tbody>\n",
              "</table>\n",
              "</div>\n",
              "    <div class=\"colab-df-buttons\">\n",
              "\n",
              "  <div class=\"colab-df-container\">\n",
              "    <button class=\"colab-df-convert\" onclick=\"convertToInteractive('df-04a76d67-0a48-422d-9b23-996c7612c646')\"\n",
              "            title=\"Convert this dataframe to an interactive table.\"\n",
              "            style=\"display:none;\">\n",
              "\n",
              "  <svg xmlns=\"http://www.w3.org/2000/svg\" height=\"24px\" viewBox=\"0 -960 960 960\">\n",
              "    <path d=\"M120-120v-720h720v720H120Zm60-500h600v-160H180v160Zm220 220h160v-160H400v160Zm0 220h160v-160H400v160ZM180-400h160v-160H180v160Zm440 0h160v-160H620v160ZM180-180h160v-160H180v160Zm440 0h160v-160H620v160Z\"/>\n",
              "  </svg>\n",
              "    </button>\n",
              "\n",
              "  <style>\n",
              "    .colab-df-container {\n",
              "      display:flex;\n",
              "      gap: 12px;\n",
              "    }\n",
              "\n",
              "    .colab-df-convert {\n",
              "      background-color: #E8F0FE;\n",
              "      border: none;\n",
              "      border-radius: 50%;\n",
              "      cursor: pointer;\n",
              "      display: none;\n",
              "      fill: #1967D2;\n",
              "      height: 32px;\n",
              "      padding: 0 0 0 0;\n",
              "      width: 32px;\n",
              "    }\n",
              "\n",
              "    .colab-df-convert:hover {\n",
              "      background-color: #E2EBFA;\n",
              "      box-shadow: 0px 1px 2px rgba(60, 64, 67, 0.3), 0px 1px 3px 1px rgba(60, 64, 67, 0.15);\n",
              "      fill: #174EA6;\n",
              "    }\n",
              "\n",
              "    .colab-df-buttons div {\n",
              "      margin-bottom: 4px;\n",
              "    }\n",
              "\n",
              "    [theme=dark] .colab-df-convert {\n",
              "      background-color: #3B4455;\n",
              "      fill: #D2E3FC;\n",
              "    }\n",
              "\n",
              "    [theme=dark] .colab-df-convert:hover {\n",
              "      background-color: #434B5C;\n",
              "      box-shadow: 0px 1px 3px 1px rgba(0, 0, 0, 0.15);\n",
              "      filter: drop-shadow(0px 1px 2px rgba(0, 0, 0, 0.3));\n",
              "      fill: #FFFFFF;\n",
              "    }\n",
              "  </style>\n",
              "\n",
              "    <script>\n",
              "      const buttonEl =\n",
              "        document.querySelector('#df-04a76d67-0a48-422d-9b23-996c7612c646 button.colab-df-convert');\n",
              "      buttonEl.style.display =\n",
              "        google.colab.kernel.accessAllowed ? 'block' : 'none';\n",
              "\n",
              "      async function convertToInteractive(key) {\n",
              "        const element = document.querySelector('#df-04a76d67-0a48-422d-9b23-996c7612c646');\n",
              "        const dataTable =\n",
              "          await google.colab.kernel.invokeFunction('convertToInteractive',\n",
              "                                                    [key], {});\n",
              "        if (!dataTable) return;\n",
              "\n",
              "        const docLinkHtml = 'Like what you see? Visit the ' +\n",
              "          '<a target=\"_blank\" href=https://colab.research.google.com/notebooks/data_table.ipynb>data table notebook</a>'\n",
              "          + ' to learn more about interactive tables.';\n",
              "        element.innerHTML = '';\n",
              "        dataTable['output_type'] = 'display_data';\n",
              "        await google.colab.output.renderOutput(dataTable, element);\n",
              "        const docLink = document.createElement('div');\n",
              "        docLink.innerHTML = docLinkHtml;\n",
              "        element.appendChild(docLink);\n",
              "      }\n",
              "    </script>\n",
              "  </div>\n",
              "\n",
              "\n",
              "<div id=\"df-6c1677dd-80dd-4780-850e-79154ef55175\">\n",
              "  <button class=\"colab-df-quickchart\" onclick=\"quickchart('df-6c1677dd-80dd-4780-850e-79154ef55175')\"\n",
              "            title=\"Suggest charts\"\n",
              "            style=\"display:none;\">\n",
              "\n",
              "<svg xmlns=\"http://www.w3.org/2000/svg\" height=\"24px\"viewBox=\"0 0 24 24\"\n",
              "     width=\"24px\">\n",
              "    <g>\n",
              "        <path d=\"M19 3H5c-1.1 0-2 .9-2 2v14c0 1.1.9 2 2 2h14c1.1 0 2-.9 2-2V5c0-1.1-.9-2-2-2zM9 17H7v-7h2v7zm4 0h-2V7h2v10zm4 0h-2v-4h2v4z\"/>\n",
              "    </g>\n",
              "</svg>\n",
              "  </button>\n",
              "\n",
              "<style>\n",
              "  .colab-df-quickchart {\n",
              "      --bg-color: #E8F0FE;\n",
              "      --fill-color: #1967D2;\n",
              "      --hover-bg-color: #E2EBFA;\n",
              "      --hover-fill-color: #174EA6;\n",
              "      --disabled-fill-color: #AAA;\n",
              "      --disabled-bg-color: #DDD;\n",
              "  }\n",
              "\n",
              "  [theme=dark] .colab-df-quickchart {\n",
              "      --bg-color: #3B4455;\n",
              "      --fill-color: #D2E3FC;\n",
              "      --hover-bg-color: #434B5C;\n",
              "      --hover-fill-color: #FFFFFF;\n",
              "      --disabled-bg-color: #3B4455;\n",
              "      --disabled-fill-color: #666;\n",
              "  }\n",
              "\n",
              "  .colab-df-quickchart {\n",
              "    background-color: var(--bg-color);\n",
              "    border: none;\n",
              "    border-radius: 50%;\n",
              "    cursor: pointer;\n",
              "    display: none;\n",
              "    fill: var(--fill-color);\n",
              "    height: 32px;\n",
              "    padding: 0;\n",
              "    width: 32px;\n",
              "  }\n",
              "\n",
              "  .colab-df-quickchart:hover {\n",
              "    background-color: var(--hover-bg-color);\n",
              "    box-shadow: 0 1px 2px rgba(60, 64, 67, 0.3), 0 1px 3px 1px rgba(60, 64, 67, 0.15);\n",
              "    fill: var(--button-hover-fill-color);\n",
              "  }\n",
              "\n",
              "  .colab-df-quickchart-complete:disabled,\n",
              "  .colab-df-quickchart-complete:disabled:hover {\n",
              "    background-color: var(--disabled-bg-color);\n",
              "    fill: var(--disabled-fill-color);\n",
              "    box-shadow: none;\n",
              "  }\n",
              "\n",
              "  .colab-df-spinner {\n",
              "    border: 2px solid var(--fill-color);\n",
              "    border-color: transparent;\n",
              "    border-bottom-color: var(--fill-color);\n",
              "    animation:\n",
              "      spin 1s steps(1) infinite;\n",
              "  }\n",
              "\n",
              "  @keyframes spin {\n",
              "    0% {\n",
              "      border-color: transparent;\n",
              "      border-bottom-color: var(--fill-color);\n",
              "      border-left-color: var(--fill-color);\n",
              "    }\n",
              "    20% {\n",
              "      border-color: transparent;\n",
              "      border-left-color: var(--fill-color);\n",
              "      border-top-color: var(--fill-color);\n",
              "    }\n",
              "    30% {\n",
              "      border-color: transparent;\n",
              "      border-left-color: var(--fill-color);\n",
              "      border-top-color: var(--fill-color);\n",
              "      border-right-color: var(--fill-color);\n",
              "    }\n",
              "    40% {\n",
              "      border-color: transparent;\n",
              "      border-right-color: var(--fill-color);\n",
              "      border-top-color: var(--fill-color);\n",
              "    }\n",
              "    60% {\n",
              "      border-color: transparent;\n",
              "      border-right-color: var(--fill-color);\n",
              "    }\n",
              "    80% {\n",
              "      border-color: transparent;\n",
              "      border-right-color: var(--fill-color);\n",
              "      border-bottom-color: var(--fill-color);\n",
              "    }\n",
              "    90% {\n",
              "      border-color: transparent;\n",
              "      border-bottom-color: var(--fill-color);\n",
              "    }\n",
              "  }\n",
              "</style>\n",
              "\n",
              "  <script>\n",
              "    async function quickchart(key) {\n",
              "      const quickchartButtonEl =\n",
              "        document.querySelector('#' + key + ' button');\n",
              "      quickchartButtonEl.disabled = true;  // To prevent multiple clicks.\n",
              "      quickchartButtonEl.classList.add('colab-df-spinner');\n",
              "      try {\n",
              "        const charts = await google.colab.kernel.invokeFunction(\n",
              "            'suggestCharts', [key], {});\n",
              "      } catch (error) {\n",
              "        console.error('Error during call to suggestCharts:', error);\n",
              "      }\n",
              "      quickchartButtonEl.classList.remove('colab-df-spinner');\n",
              "      quickchartButtonEl.classList.add('colab-df-quickchart-complete');\n",
              "    }\n",
              "    (() => {\n",
              "      let quickchartButtonEl =\n",
              "        document.querySelector('#df-6c1677dd-80dd-4780-850e-79154ef55175 button');\n",
              "      quickchartButtonEl.style.display =\n",
              "        google.colab.kernel.accessAllowed ? 'block' : 'none';\n",
              "    })();\n",
              "  </script>\n",
              "</div>\n",
              "\n",
              "    </div>\n",
              "  </div>\n"
            ]
          },
          "metadata": {},
          "execution_count": 77
        }
      ]
    },
    {
      "cell_type": "code",
      "source": [
        "news_data.info()"
      ],
      "metadata": {
        "colab": {
          "base_uri": "https://localhost:8080/"
        },
        "id": "LRGwdnXqMhJt",
        "outputId": "35090bbb-016c-464e-c1a9-d435065d23cc"
      },
      "execution_count": 78,
      "outputs": [
        {
          "output_type": "stream",
          "name": "stdout",
          "text": [
            "<class 'pandas.core.frame.DataFrame'>\n",
            "RangeIndex: 6335 entries, 0 to 6334\n",
            "Data columns (total 4 columns):\n",
            " #   Column      Non-Null Count  Dtype \n",
            "---  ------      --------------  ----- \n",
            " 0   Unnamed: 0  6335 non-null   int64 \n",
            " 1   title       6335 non-null   object\n",
            " 2   text        6335 non-null   object\n",
            " 3   label       6335 non-null   object\n",
            "dtypes: int64(1), object(3)\n",
            "memory usage: 198.1+ KB\n"
          ]
        }
      ]
    },
    {
      "cell_type": "code",
      "source": [
        "news_data.shape"
      ],
      "metadata": {
        "colab": {
          "base_uri": "https://localhost:8080/"
        },
        "id": "3uDglmOXMscl",
        "outputId": "475affc2-1a2b-4736-c10d-d45e29f28745"
      },
      "execution_count": 79,
      "outputs": [
        {
          "output_type": "execute_result",
          "data": {
            "text/plain": [
              "(6335, 4)"
            ]
          },
          "metadata": {},
          "execution_count": 79
        }
      ]
    },
    {
      "cell_type": "code",
      "source": [
        "news_data[\"label\"].value_counts()"
      ],
      "metadata": {
        "colab": {
          "base_uri": "https://localhost:8080/"
        },
        "id": "sZhw-bIDM8g0",
        "outputId": "c2f562cf-5103-4056-f402-00723652007d"
      },
      "execution_count": 80,
      "outputs": [
        {
          "output_type": "execute_result",
          "data": {
            "text/plain": [
              "REAL    3171\n",
              "FAKE    3164\n",
              "Name: label, dtype: int64"
            ]
          },
          "metadata": {},
          "execution_count": 80
        }
      ]
    },
    {
      "cell_type": "code",
      "source": [
        "labels= news_data.label\n",
        "labels.head(10)"
      ],
      "metadata": {
        "colab": {
          "base_uri": "https://localhost:8080/"
        },
        "id": "7jy866HqNDV3",
        "outputId": "5d9b8d93-53bc-438a-e37f-bcef58493caf"
      },
      "execution_count": 81,
      "outputs": [
        {
          "output_type": "execute_result",
          "data": {
            "text/plain": [
              "0    FAKE\n",
              "1    FAKE\n",
              "2    REAL\n",
              "3    FAKE\n",
              "4    REAL\n",
              "5    FAKE\n",
              "6    FAKE\n",
              "7    REAL\n",
              "8    REAL\n",
              "9    REAL\n",
              "Name: label, dtype: object"
            ]
          },
          "metadata": {},
          "execution_count": 81
        }
      ]
    },
    {
      "cell_type": "markdown",
      "source": [
        "**1st model**\n"
      ],
      "metadata": {
        "id": "MWIsC_hKNPUK"
      }
    },
    {
      "cell_type": "markdown",
      "source": [
        "3- Build the model"
      ],
      "metadata": {
        "id": "hLwKwB8xerRd"
      }
    },
    {
      "cell_type": "code",
      "source": [
        "#First, we split the dataset into train & test samples:\n",
        "x_train, x_test, y_train, y_test= train_test_split(news_data[\"text\"], labels, test_size= 0.4, random_state= 7)"
      ],
      "metadata": {
        "id": "4uq9tt2csr7z"
      },
      "execution_count": 82,
      "outputs": []
    },
    {
      "cell_type": "code",
      "source": [
        "#Then we’ll initialize TfidfVectorizer with English stop words\n",
        "vectorizer=TfidfVectorizer(stop_words='english', max_df=0.7)\n",
        "tfidf_train=vectorizer.fit_transform(x_train)\n",
        "tfidf_test=vectorizer.transform(x_test)"
      ],
      "metadata": {
        "id": "FHkOnTgjsvyi"
      },
      "execution_count": 83,
      "outputs": []
    },
    {
      "cell_type": "code",
      "source": [
        "#Create a PassiveAggressiveClassifier\n",
        "passive=PassiveAggressiveClassifier(max_iter=50)\n",
        "passive.fit(tfidf_train,y_train)\n",
        "\n",
        "y_pred=passive.predict(tfidf_test)"
      ],
      "metadata": {
        "id": "i9HFd0Thsx5-"
      },
      "execution_count": 84,
      "outputs": []
    },
    {
      "cell_type": "markdown",
      "source": [
        "**4- Evaluate the model's accuracy**"
      ],
      "metadata": {
        "id": "c6ZOcCJoueIP"
      }
    },
    {
      "cell_type": "code",
      "source": [
        "#Create a confusion matrix\n",
        "matrix= confusion_matrix(y_test,y_pred, labels=['FAKE','REAL'])\n",
        "matrix"
      ],
      "metadata": {
        "id": "3EFe3xgls0zD",
        "colab": {
          "base_uri": "https://localhost:8080/"
        },
        "outputId": "f0fab56e-3f98-4cca-ecd9-d500bb17da5b"
      },
      "execution_count": 85,
      "outputs": [
        {
          "output_type": "execute_result",
          "data": {
            "text/plain": [
              "array([[1185,   85],\n",
              "       [  88, 1176]])"
            ]
          },
          "metadata": {},
          "execution_count": 85
        }
      ]
    },
    {
      "cell_type": "code",
      "source": [
        "#Visualize the confusion matrix\n",
        "sns.heatmap(matrix, annot=True)\n",
        "plt.show()"
      ],
      "metadata": {
        "id": "aoeMRew5s5Ki",
        "colab": {
          "base_uri": "https://localhost:8080/",
          "height": 430
        },
        "outputId": "4ea21b3b-94c8-4c25-e9ea-11a11c4812f8"
      },
      "execution_count": 86,
      "outputs": [
        {
          "output_type": "display_data",
          "data": {
            "text/plain": [
              "<Figure size 640x480 with 2 Axes>"
            ],
            "image/png": "[encoded data removed]"
          },
          "metadata": {}
        }
      ]
    },
    {
      "cell_type": "code",
      "source": [
        "#Calculate the model's accuracy\n",
        "Accuracy=accuracy_score(y_test,y_pred)\n",
        "Accuracy*100"
      ],
      "metadata": {
        "id": "TtP5Kgxls7wp",
        "colab": {
          "base_uri": "https://localhost:8080/"
        },
        "outputId": "c075fc3c-f2a3-43f1-d09a-f1b78767b081"
      },
      "execution_count": 87,
      "outputs": [
        {
          "output_type": "execute_result",
          "data": {
            "text/plain": [
              "93.17284925019732"
            ]
          },
          "metadata": {},
          "execution_count": 87
        }
      ]
    },
    {
      "cell_type": "code",
      "source": [
        "#The model's accuracy is 93.21%\n",
        "Report= classification_report(y_test, y_pred)\n",
        "print(Report)"
      ],
      "metadata": {
        "colab": {
          "base_uri": "https://localhost:8080/"
        },
        "id": "iRnsqPQttG_S",
        "outputId": "77c4820a-b998-477a-9227-953791efb583"
      },
      "execution_count": 88,
      "outputs": [
        {
          "output_type": "stream",
          "name": "stdout",
          "text": [
            "              precision    recall  f1-score   support\n",
            "\n",
            "        FAKE       0.93      0.93      0.93      1270\n",
            "        REAL       0.93      0.93      0.93      1264\n",
            "\n",
            "    accuracy                           0.93      2534\n",
            "   macro avg       0.93      0.93      0.93      2534\n",
            "weighted avg       0.93      0.93      0.93      2534\n",
            "\n"
          ]
        }
      ]
    },
    {
      "cell_type": "code",
      "source": [
        "#Now let’s test this model.\n",
        "#To test our trained model, I’ll first write down the title of any news item found on google news to see if our\n",
        "#model predicts that the news is real or not:\n",
        "news_headline_1 = \"Trump takes on Cruz, but lightly\"\n",
        "\n",
        "data = vectorizer.transform([news_headline_1]).toarray()\n",
        "print(passive.predict(data))"
      ],
      "metadata": {
        "colab": {
          "base_uri": "https://localhost:8080/"
        },
        "id": "YtgV_LfQtZzw",
        "outputId": "fb8820d2-1475-4bce-8e95-820513214e23"
      },
      "execution_count": 89,
      "outputs": [
        {
          "output_type": "stream",
          "name": "stdout",
          "text": [
            "['REAL']\n"
          ]
        }
      ]
    },
    {
      "cell_type": "code",
      "source": [
        "news_headline_2 = \"Cow dung can cure Corona Virus\"\n",
        "data = vectorizer.transform([news_headline_2]).toarray()\n",
        "print(passive.predict(data))"
      ],
      "metadata": {
        "colab": {
          "base_uri": "https://localhost:8080/"
        },
        "id": "WuPqfelKtfQi",
        "outputId": "ead211f8-b434-441c-a500-a8794e103f13"
      },
      "execution_count": 90,
      "outputs": [
        {
          "output_type": "stream",
          "name": "stdout",
          "text": [
            "['FAKE']\n"
          ]
        }
      ]
    },
    {
      "cell_type": "code",
      "source": [
        "news_headline_3 = \"Doubt Congress will get ‘even 40 seats’ in LS polls, says Mamata\"\n",
        "data = vectorizer.transform([news_headline_3]).toarray()\n",
        "print(passive.predict(data))"
      ],
      "metadata": {
        "colab": {
          "base_uri": "https://localhost:8080/"
        },
        "id": "rjCNCleptgyT",
        "outputId": "9be9add5-bdd2-4ede-a640-c0e6d98c5fa6"
      },
      "execution_count": 91,
      "outputs": [
        {
          "output_type": "stream",
          "name": "stdout",
          "text": [
            "['REAL']\n"
          ]
        }
      ]
    },
    {
      "cell_type": "markdown",
      "source": [
        "**2nd Model to Increase Accuracy**\n"
      ],
      "metadata": {
        "id": "UO7IX7CousDN"
      }
    },
    {
      "cell_type": "markdown",
      "source": [
        "3- Build the model\n"
      ],
      "metadata": {
        "id": "AeO3mEySu1Hj"
      }
    },
    {
      "cell_type": "code",
      "source": [
        "#First, we split the dataset into train & test samples:\n",
        "x_train, x_test, y_train, y_test= train_test_split(news_data[\"text\"], labels, test_size= 0.2, random_state= 7)"
      ],
      "metadata": {
        "id": "Th_pQUJRNXQ1"
      },
      "execution_count": 92,
      "outputs": []
    },
    {
      "cell_type": "code",
      "source": [
        "#Then we’ll initialize TfidfVectorizer with English stop words\n",
        "vectorizer=TfidfVectorizer(stop_words='english', max_df=0.9)\n",
        "## fit and transform train set, transform test set\n",
        "tfidf_train=vectorizer.fit_transform(x_train)\n",
        "tfidf_test=vectorizer.transform(x_test)\n"
      ],
      "metadata": {
        "id": "mRYS0pfAeyvX"
      },
      "execution_count": 93,
      "outputs": []
    },
    {
      "cell_type": "code",
      "source": [
        "#Create a PassiveAggressiveClassifier\n",
        "passive=PassiveAggressiveClassifier(max_iter=50)\n",
        "passive.fit(tfidf_train,y_train)\n",
        "\n",
        "y_pred=passive.predict(tfidf_test)"
      ],
      "metadata": {
        "id": "MT3oKxc1fElE"
      },
      "execution_count": 94,
      "outputs": []
    },
    {
      "cell_type": "markdown",
      "source": [
        "\n",
        "4.   Evaluate the model's accuracy\n",
        "\n"
      ],
      "metadata": {
        "id": "LLq0edz8l5Fs"
      }
    },
    {
      "cell_type": "code",
      "source": [
        "#Create a confusion matrix\n",
        "matrix= confusion_matrix(y_test,y_pred, labels=['FAKE','REAL'])\n",
        "matrix\n"
      ],
      "metadata": {
        "colab": {
          "base_uri": "https://localhost:8080/"
        },
        "id": "sqfhhhXbfMsZ",
        "outputId": "2eef8277-1629-4d14-dde6-c1c0ee5b561f"
      },
      "execution_count": 95,
      "outputs": [
        {
          "output_type": "execute_result",
          "data": {
            "text/plain": [
              "array([[589,  49],\n",
              "       [ 44, 585]])"
            ]
          },
          "metadata": {},
          "execution_count": 95
        }
      ]
    },
    {
      "cell_type": "code",
      "source": [
        "#Visualize the confusion matrix\n",
        "sns.heatmap(matrix, annot=True, cmap='viridis')  # 'viridis' is just an example, you can choose any other colormap\n",
        "plt.show()\n",
        "\n"
      ],
      "metadata": {
        "colab": {
          "base_uri": "https://localhost:8080/",
          "height": 430
        },
        "id": "88IxupHxfgDZ",
        "outputId": "e66611c3-7c3f-4af4-82c5-5338fbf80fe6"
      },
      "execution_count": 122,
      "outputs": [
        {
          "output_type": "display_data",
          "data": {
            "text/plain": [
              "<Figure size 640x480 with 2 Axes>"
            ],
            "image/png": "[encoded data removed]"
          },
          "metadata": {}
        }
      ]
    },
    {
      "cell_type": "code",
      "source": [
        "#Calculate the model's accuracy\n",
        "Accuracy=accuracy_score(y_test,y_pred)\n",
        "Accuracy*100"
      ],
      "metadata": {
        "colab": {
          "base_uri": "https://localhost:8080/"
        },
        "id": "CUNpriCofne-",
        "outputId": "739e34ae-898b-4836-b176-28d05100f6cf"
      },
      "execution_count": 97,
      "outputs": [
        {
          "output_type": "execute_result",
          "data": {
            "text/plain": [
              "92.65982636148382"
            ]
          },
          "metadata": {},
          "execution_count": 97
        }
      ]
    },
    {
      "cell_type": "code",
      "source": [
        "#The model's accuracy is 93.21%\n",
        "Report= classification_report(y_test, y_pred)\n",
        "print(Report)\n"
      ],
      "metadata": {
        "colab": {
          "base_uri": "https://localhost:8080/"
        },
        "id": "4RWOt1Avfy4-",
        "outputId": "a9fefa86-2e24-4f61-8585-75b281dc5dd4"
      },
      "execution_count": 98,
      "outputs": [
        {
          "output_type": "stream",
          "name": "stdout",
          "text": [
            "              precision    recall  f1-score   support\n",
            "\n",
            "        FAKE       0.93      0.92      0.93       638\n",
            "        REAL       0.92      0.93      0.93       629\n",
            "\n",
            "    accuracy                           0.93      1267\n",
            "   macro avg       0.93      0.93      0.93      1267\n",
            "weighted avg       0.93      0.93      0.93      1267\n",
            "\n"
          ]
        }
      ]
    },
    {
      "cell_type": "code",
      "source": [
        "#Now let’s test this model.\n",
        "#To test our trained model, I’ll first write down the title of any news item found on google news to see if our\n",
        "#model predicts that the news is real or not:news_headline_1 = \"Trump takes on Cruz, but lightly\"\n",
        "news_headline_1 = \"Trump takes on Cruz, but lightly\"\n",
        "data = vectorizer.transform([news_headline_1]).toarray()\n",
        "print(passive.predict(data))"
      ],
      "metadata": {
        "colab": {
          "base_uri": "https://localhost:8080/"
        },
        "id": "iVY7aOD3f5I5",
        "outputId": "13696048-1ae6-41c0-fa05-032d443843fd"
      },
      "execution_count": 99,
      "outputs": [
        {
          "output_type": "stream",
          "name": "stdout",
          "text": [
            "['REAL']\n"
          ]
        }
      ]
    },
    {
      "cell_type": "code",
      "source": [
        "#Now I’m going to write a random fake news headline to see if the model predicts the news is fake or not:\n",
        "news_headline_2 = \"Cow dung can cure Corona Virus\"\n",
        "data = vectorizer.transform([news_headline_2]).toarray()\n",
        "print(passive.predict(data))"
      ],
      "metadata": {
        "colab": {
          "base_uri": "https://localhost:8080/"
        },
        "id": "q2DB5EN3gDr3",
        "outputId": "0263d75b-f795-4829-d11b-38c8f890f59d"
      },
      "execution_count": 100,
      "outputs": [
        {
          "output_type": "stream",
          "name": "stdout",
          "text": [
            "['FAKE']\n"
          ]
        }
      ]
    },
    {
      "cell_type": "code",
      "source": [
        "news_headline_3 = \"Doubt Congress will get ‘even 40 seats’ in LS polls, says Mamata\"\n",
        "data = vectorizer.transform([news_headline_3]).toarray()\n",
        "print(passive.predict(data))\n"
      ],
      "metadata": {
        "colab": {
          "base_uri": "https://localhost:8080/"
        },
        "id": "lx8WnqdUgFsj",
        "outputId": "ac4143cb-1d6c-484e-e01f-bb8bb116e752"
      },
      "execution_count": 101,
      "outputs": [
        {
          "output_type": "stream",
          "name": "stdout",
          "text": [
            "['REAL']\n"
          ]
        }
      ]
    },
    {
      "cell_type": "markdown",
      "source": [
        "**3rd Model to further increase accuracy**"
      ],
      "metadata": {
        "id": "aCZ0lDnYvMDK"
      }
    },
    {
      "cell_type": "markdown",
      "source": [
        "\n",
        "3.  Build the model\n",
        "\n",
        "\n"
      ],
      "metadata": {
        "id": "gtl4EqgUlJxt"
      }
    },
    {
      "cell_type": "code",
      "source": [
        "#First, we split the dataset into train & test samples:\n",
        "x_train,x_test,y_train,y_test=train_test_split(news_data['text'], labels, test_size=0.3, random_state=6)\n"
      ],
      "metadata": {
        "id": "3mNJSgNTgNY0"
      },
      "execution_count": 102,
      "outputs": []
    },
    {
      "cell_type": "code",
      "source": [
        "vectorizer=TfidfVectorizer(stop_words='english', max_df=0.9)\n",
        "## fit and transform train set, transform test set\n",
        "tfidf_train=vectorizer.fit_transform(x_train)\n",
        "tfidf_test=vectorizer.transform(x_test)\n"
      ],
      "metadata": {
        "id": "uraoPbj5gSFe"
      },
      "execution_count": 103,
      "outputs": []
    },
    {
      "cell_type": "code",
      "source": [
        "#Create a PassiveAggressiveClassifier\n",
        "passive=PassiveAggressiveClassifier(max_iter=50)\n",
        "passive.fit(tfidf_train,y_train)\n",
        "\n",
        "y_pred=passive.predict(tfidf_test)"
      ],
      "metadata": {
        "id": "xeLTicXtgZFO"
      },
      "execution_count": 104,
      "outputs": []
    },
    {
      "cell_type": "markdown",
      "source": [
        "**4- Evaluate the model's accuracy**"
      ],
      "metadata": {
        "id": "E_zZYZw-k8Cs"
      }
    },
    {
      "cell_type": "code",
      "source": [
        "#Create a confusion matrix\n",
        "matrix= confusion_matrix(y_test,y_pred, labels=['FAKE','REAL'])\n",
        "matrix"
      ],
      "metadata": {
        "colab": {
          "base_uri": "https://localhost:8080/"
        },
        "id": "1les7aeVgdk9",
        "outputId": "d5afc6ff-63dd-4340-9c49-e0d7d2064cc6"
      },
      "execution_count": 105,
      "outputs": [
        {
          "output_type": "execute_result",
          "data": {
            "text/plain": [
              "array([[880,  61],\n",
              "       [ 62, 898]])"
            ]
          },
          "metadata": {},
          "execution_count": 105
        }
      ]
    },
    {
      "cell_type": "code",
      "source": [
        "#Visualize the confusion matrix\n",
        "sns.heatmap(matrix, annot=True, cmap='viridis')  # 'viridis' is just an example, you can choose any other colormap\n",
        "plt.show()"
      ],
      "metadata": {
        "colab": {
          "base_uri": "https://localhost:8080/",
          "height": 430
        },
        "id": "0HZb5NCJghn6",
        "outputId": "e284b9c3-c757-4eb7-9433-e9cdf4a4dd97"
      },
      "execution_count": 123,
      "outputs": [
        {
          "output_type": "display_data",
          "data": {
            "text/plain": [
              "<Figure size 640x480 with 2 Axes>"
            ],
            "image/png": "[encoded data removed]"
          },
          "metadata": {}
        }
      ]
    },
    {
      "cell_type": "code",
      "source": [
        "\n",
        "Accuracy=accuracy_score(y_test,y_pred)\n",
        "Accuracy*100\n"
      ],
      "metadata": {
        "colab": {
          "base_uri": "https://localhost:8080/"
        },
        "id": "ijcWQ1YwgwX4",
        "outputId": "d51bec49-cf4c-46b5-a1fc-9023ea849fbc"
      },
      "execution_count": 107,
      "outputs": [
        {
          "output_type": "execute_result",
          "data": {
            "text/plain": [
              "93.52972119936875"
            ]
          },
          "metadata": {},
          "execution_count": 107
        }
      ]
    },
    {
      "cell_type": "code",
      "source": [
        "\n",
        "Report= classification_report(y_test, y_pred)\n",
        "print(Report)\n"
      ],
      "metadata": {
        "colab": {
          "base_uri": "https://localhost:8080/"
        },
        "id": "qOXVuWuYhH-M",
        "outputId": "1c3feda9-7400-4d99-fcbc-a7bde183da1a"
      },
      "execution_count": 108,
      "outputs": [
        {
          "output_type": "stream",
          "name": "stdout",
          "text": [
            "              precision    recall  f1-score   support\n",
            "\n",
            "        FAKE       0.93      0.94      0.93       941\n",
            "        REAL       0.94      0.94      0.94       960\n",
            "\n",
            "    accuracy                           0.94      1901\n",
            "   macro avg       0.94      0.94      0.94      1901\n",
            "weighted avg       0.94      0.94      0.94      1901\n",
            "\n"
          ]
        }
      ]
    },
    {
      "cell_type": "code",
      "source": [
        "#Now let’s test this model.\n",
        "#To test our trained model, I’ll first write down the title of any news item found on google news to see if our\n",
        "#model predicts that the news is real or not:\n",
        "news_headline_1 = \"Trump takes on Cruz, but lightly\"\n",
        "\n",
        "data = vectorizer.transform([news_headline_1]).toarray()\n",
        "print(passive.predict(data))\n"
      ],
      "metadata": {
        "colab": {
          "base_uri": "https://localhost:8080/"
        },
        "id": "S1orqx2ThOUf",
        "outputId": "66a80d3f-0033-4eb1-c8b0-416fb8d9d66a"
      },
      "execution_count": 109,
      "outputs": [
        {
          "output_type": "stream",
          "name": "stdout",
          "text": [
            "['REAL']\n"
          ]
        }
      ]
    },
    {
      "cell_type": "code",
      "source": [
        "#Now I’m going to write a random fake news headline to see if the model predicts the news is fake or not:\n",
        "news_headline_2 = \"Cow dung can cure Corona Virus\"\n",
        "data = vectorizer.transform([news_headline_2]).toarray()\n",
        "print(passive.predict(data))"
      ],
      "metadata": {
        "colab": {
          "base_uri": "https://localhost:8080/"
        },
        "id": "l9UIz37JhsX7",
        "outputId": "6176cca2-b491-473d-ce7f-87e7cf0e9a1f"
      },
      "execution_count": 110,
      "outputs": [
        {
          "output_type": "stream",
          "name": "stdout",
          "text": [
            "['FAKE']\n"
          ]
        }
      ]
    },
    {
      "cell_type": "code",
      "source": [
        "news_headline_3 = \"Doubt Congress will get ‘even 40 seats’ in LS polls, says Mamata\"\n",
        "data = vectorizer.transform([news_headline_3]).toarray()\n",
        "print(passive.predict(data))"
      ],
      "metadata": {
        "colab": {
          "base_uri": "https://localhost:8080/"
        },
        "id": "-p-kpapziAEh",
        "outputId": "502baa68-b9fa-49ac-a037-12892dfb764b"
      },
      "execution_count": 111,
      "outputs": [
        {
          "output_type": "stream",
          "name": "stdout",
          "text": [
            "['REAL']\n"
          ]
        }
      ]
    },
    {
      "cell_type": "markdown",
      "source": [
        "**4nd Model to Increase Accuracy**"
      ],
      "metadata": {
        "id": "4RhHGBtyvY6a"
      }
    },
    {
      "cell_type": "markdown",
      "source": [
        "**3- Build the model**"
      ],
      "metadata": {
        "id": "bnjSTsB2kPVY"
      }
    },
    {
      "cell_type": "code",
      "source": [
        "#First, we split the dataset into train & test samples:\n",
        "x_train,x_test,y_train,y_test=train_test_split(news_data['text'], labels, test_size=0.2, random_state=10)"
      ],
      "metadata": {
        "id": "icDXB9Nxif2U"
      },
      "execution_count": 112,
      "outputs": []
    },
    {
      "cell_type": "code",
      "source": [
        "vectorizer=TfidfVectorizer(stop_words='english', max_df=0.9)\n",
        "## fit and transform train set, transform test set\n",
        "tfidf_train=vectorizer.fit_transform(x_train)\n",
        "tfidf_test=vectorizer.transform(x_test)"
      ],
      "metadata": {
        "id": "XAApcnQoilN7"
      },
      "execution_count": 113,
      "outputs": []
    },
    {
      "cell_type": "code",
      "source": [
        "#Create a PassiveAggressiveClassifier\n",
        "passive=PassiveAggressiveClassifier(max_iter=50)\n",
        "passive.fit(tfidf_train,y_train)\n",
        "\n",
        "y_pred=passive.predict(tfidf_test)\n",
        "\n"
      ],
      "metadata": {
        "id": "9pS7EAgfi0jG"
      },
      "execution_count": 114,
      "outputs": []
    },
    {
      "cell_type": "markdown",
      "source": [
        "**4- Evaluate the model's accuracy**"
      ],
      "metadata": {
        "id": "8BtZX5Htj9Ok"
      }
    },
    {
      "cell_type": "code",
      "source": [
        "#Create a confusion matrix\n",
        "matrix= confusion_matrix(y_test,y_pred, labels=['FAKE','REAL'])\n",
        "matrix"
      ],
      "metadata": {
        "colab": {
          "base_uri": "https://localhost:8080/"
        },
        "id": "oqxyYN2Qi816",
        "outputId": "278f5afd-0ea8-4c46-926b-a2e1b8003133"
      },
      "execution_count": 115,
      "outputs": [
        {
          "output_type": "execute_result",
          "data": {
            "text/plain": [
              "array([[575,  28],\n",
              "       [ 40, 624]])"
            ]
          },
          "metadata": {},
          "execution_count": 115
        }
      ]
    },
    {
      "cell_type": "code",
      "source": [
        "#Visualize the confusion matrix\n",
        "sns.heatmap(matrix, annot=True, cmap='viridis')  # 'viridis' is just an example, you can choose any other colormap\n",
        "plt.show()"
      ],
      "metadata": {
        "colab": {
          "base_uri": "https://localhost:8080/",
          "height": 430
        },
        "id": "DoEWzdNvi_l_",
        "outputId": "a7d66bd1-fbd3-4bf0-87d4-71d29c331a59"
      },
      "execution_count": 124,
      "outputs": [
        {
          "output_type": "display_data",
          "data": {
            "text/plain": [
              "<Figure size 640x480 with 2 Axes>"
            ],
            "image/png": "[encoded data removed]"
          },
          "metadata": {}
        }
      ]
    },
    {
      "cell_type": "code",
      "source": [
        "#Calculate the model's accuracy\n",
        "Accuracy=accuracy_score(y_test,y_pred)\n",
        "Accuracy*100\n"
      ],
      "metadata": {
        "colab": {
          "base_uri": "https://localhost:8080/"
        },
        "id": "1w5nm6FsjCxg",
        "outputId": "dd24c6da-ed85-4c29-9809-1c4fc544753d"
      },
      "execution_count": 117,
      "outputs": [
        {
          "output_type": "execute_result",
          "data": {
            "text/plain": [
              "94.63299131807419"
            ]
          },
          "metadata": {},
          "execution_count": 117
        }
      ]
    },
    {
      "cell_type": "code",
      "source": [
        "#the model's accuracy is 94.55%\n",
        "Report= classification_report(y_test, y_pred)\n",
        "print(Report)"
      ],
      "metadata": {
        "colab": {
          "base_uri": "https://localhost:8080/"
        },
        "id": "U09xZY0bjJD7",
        "outputId": "bf25c951-6b7f-48fa-9a4d-006c7e324df4"
      },
      "execution_count": 118,
      "outputs": [
        {
          "output_type": "stream",
          "name": "stdout",
          "text": [
            "              precision    recall  f1-score   support\n",
            "\n",
            "        FAKE       0.93      0.95      0.94       603\n",
            "        REAL       0.96      0.94      0.95       664\n",
            "\n",
            "    accuracy                           0.95      1267\n",
            "   macro avg       0.95      0.95      0.95      1267\n",
            "weighted avg       0.95      0.95      0.95      1267\n",
            "\n"
          ]
        }
      ]
    },
    {
      "cell_type": "code",
      "source": [
        "#Now let’s test this model.\n",
        "#To test our trained model, I’ll first write down the title of any news item found on google news to see if our\n",
        "#model predicts that the news is real or not:\n",
        "news_headline_1 = \"Trump takes on Cruz, but lightly\"\n",
        "\n",
        "data = vectorizer.transform([news_headline_1]).toarray()\n",
        "print(passive.predict(data))"
      ],
      "metadata": {
        "colab": {
          "base_uri": "https://localhost:8080/"
        },
        "id": "rZzKEaTJjMMY",
        "outputId": "d32093a9-3fbe-41a2-fdc8-4eda01c2078b"
      },
      "execution_count": 119,
      "outputs": [
        {
          "output_type": "stream",
          "name": "stdout",
          "text": [
            "['REAL']\n"
          ]
        }
      ]
    },
    {
      "cell_type": "code",
      "source": [
        "#Now I’m going to write a random fake news headline to see if the model predicts the news is fake or not:\n",
        "news_headline_2 = \"Cow dung can cure Corona Virus\"\n",
        "data = vectorizer.transform([news_headline_2]).toarray()\n",
        "print(passive.predict(data))\n"
      ],
      "metadata": {
        "colab": {
          "base_uri": "https://localhost:8080/"
        },
        "id": "JsoVM7IhjPkC",
        "outputId": "d470712f-4506-4188-c56e-b2b917fda575"
      },
      "execution_count": 120,
      "outputs": [
        {
          "output_type": "stream",
          "name": "stdout",
          "text": [
            "['FAKE']\n"
          ]
        }
      ]
    },
    {
      "cell_type": "code",
      "source": [
        "news_headline_3 = \"Doubt Congress will get ‘even 40 seats’ in LS polls, says Mamata\"\n",
        "data = vectorizer.transform([news_headline_3]).toarray()\n",
        "print(passive.predict(data))"
      ],
      "metadata": {
        "colab": {
          "base_uri": "https://localhost:8080/"
        },
        "id": "NLCmdzMbjVfA",
        "outputId": "7f3bce44-744d-4987-ef6b-62b15be94d3f"
      },
      "execution_count": 121,
      "outputs": [
        {
          "output_type": "stream",
          "name": "stdout",
          "text": [
            "['REAL']\n"
          ]
        }
      ]
    }
  ]
}